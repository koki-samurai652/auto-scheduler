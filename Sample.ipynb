{
 "cells": [
  {
   "cell_type": "markdown",
   "metadata": {},
   "source": [
    "# モジュールのインポートについて"
   ]
  },
  {
   "cell_type": "markdown",
   "metadata": {},
   "source": [
    "## import ~"
   ]
  },
  {
   "cell_type": "code",
   "execution_count": null,
   "metadata": {},
   "outputs": [],
   "source": [
    "# ランダムモジュールを指す\n",
    "import random\n",
    "\n",
    "# \n",
    "print(random.random())\n",
    "print(random.randint())"
   ]
  },
  {
   "cell_type": "markdown",
   "metadata": {},
   "source": [
    "## from ~ import ~"
   ]
  },
  {
   "cell_type": "code",
   "execution_count": null,
   "metadata": {},
   "outputs": [],
   "source": [
    "# ランダムモジュールのランダム関数だけをインポートする。\n",
    "from random import random, randint\n",
    "\n",
    "print(random())\n",
    "print(randint())"
   ]
  },
  {
   "cell_type": "markdown",
   "metadata": {},
   "source": [
    "# 日時(datetime)オブジェクトの計算"
   ]
  },
  {
   "cell_type": "code",
   "execution_count": 12,
   "metadata": {},
   "outputs": [
    {
     "name": "stdout",
     "output_type": "stream",
     "text": [
      "2023-06-12 00:00:00 - 2023-06-02 00:00:00 = 10 days, 0:00:00\n",
      "\n",
      "時間差： 10 days, 0:00:00\n",
      "　型　： <class 'datetime.timedelta'>\n"
     ]
    }
   ],
   "source": [
    "import datetime\n",
    "\n",
    "# 2つの datetime オブジェクトがあるとき\n",
    "start_day = datetime.datetime(2023, 6, 2)       # 2023.06.02\n",
    "due_date = datetime.datetime(2023, 6, 12)       # 2023.06.12\n",
    "\n",
    "# ２つの datetime を減算すると、時間差(timedelta)が求まる\n",
    "time_delta = due_date - start_day\n",
    "print(f\"{due_date} - {start_day} = {time_delta}\")\n",
    "print()\n",
    "print(\"時間差：\", time_delta)\n",
    "print(\"　型　：\",type(time_delta))\n"
   ]
  },
  {
   "cell_type": "markdown",
   "metadata": {},
   "source": [
    "### これを使ってさらに日数を求める際は、datetime と timedelta で計算する"
   ]
  },
  {
   "cell_type": "code",
   "execution_count": 13,
   "metadata": {},
   "outputs": [
    {
     "name": "stdout",
     "output_type": "stream",
     "text": [
      "元の日時： 2023-07-01 00:00:00\n",
      "加算　　： 2023-07-11 00:00:00\n",
      "減算　　： 2023-06-21 00:00:00\n"
     ]
    }
   ],
   "source": [
    "# 元の日付\n",
    "new_day = datetime.datetime(2023, 7, 1)         # 2023.07.01\n",
    "print(\"元の日時：\", new_day)\n",
    "\n",
    "# 加算 datetime(日時) + timedelta(時間差)\n",
    "print(\"加算　　：\", new_day + time_delta)\n",
    "# 減算 datetime(日時) - timedelta(時間差)\n",
    "print(\"減算　　：\", new_day - time_delta)"
   ]
  }
 ],
 "metadata": {
  "kernelspec": {
   "display_name": "Python 3",
   "language": "python",
   "name": "python3"
  },
  "language_info": {
   "codemirror_mode": {
    "name": "ipython",
    "version": 3
   },
   "file_extension": ".py",
   "mimetype": "text/x-python",
   "name": "python",
   "nbconvert_exporter": "python",
   "pygments_lexer": "ipython3",
   "version": "3.8.10"
  }
 },
 "nbformat": 4,
 "nbformat_minor": 2
}
